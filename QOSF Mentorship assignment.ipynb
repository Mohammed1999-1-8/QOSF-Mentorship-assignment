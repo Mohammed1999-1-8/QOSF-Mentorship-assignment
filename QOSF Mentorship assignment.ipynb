{
  "nbformat": 4,
  "nbformat_minor": 0,
  "metadata": {
    "colab": {
      "provenance": []
    },
    "kernelspec": {
      "name": "python3",
      "display_name": "Python 3"
    },
    "language_info": {
      "name": "python"
    }
  },
  "cells": [
    {
      "cell_type": "markdown",
      "source": [
        "# Task 4\n",
        "\n",
        "Design a function that generates a random quantum circuit by considering as parameters the number of qubits, the number of depths, and the base of gates to be used. You could only use the quantum gates of 1 and 2 qubits.\n",
        "\n"
      ],
      "metadata": {
        "id": "udWU-h3avtMj"
      }
    },
    {
      "cell_type": "code",
      "source": [
        "! pip install qiskit"
      ],
      "metadata": {
        "colab": {
          "base_uri": "https://localhost:8080/"
        },
        "id": "66cOhLNXa8sC",
        "outputId": "4f2a4d71-22d2-4880-973e-d34eb1be805b"
      },
      "execution_count": 1,
      "outputs": [
        {
          "output_type": "stream",
          "name": "stdout",
          "text": [
            "Looking in indexes: https://pypi.org/simple, https://us-python.pkg.dev/colab-wheels/public/simple/\n",
            "Collecting qiskit\n",
            "  Downloading qiskit-0.41.1.tar.gz (14 kB)\n",
            "  Preparing metadata (setup.py) ... \u001b[?25l\u001b[?25hdone\n",
            "Collecting qiskit-terra==0.23.2\n",
            "  Downloading qiskit_terra-0.23.2-cp38-cp38-manylinux_2_17_x86_64.manylinux2014_x86_64.whl (5.1 MB)\n",
            "\u001b[2K     \u001b[90m━━━━━━━━━━━━━━━━━━━━━━━━━━━━━━━━━━━━━━━━\u001b[0m \u001b[32m5.1/5.1 MB\u001b[0m \u001b[31m76.7 MB/s\u001b[0m eta \u001b[36m0:00:00\u001b[0m\n",
            "\u001b[?25hCollecting qiskit-aer==0.11.2\n",
            "  Downloading qiskit_aer-0.11.2-cp38-cp38-manylinux_2_17_x86_64.manylinux2014_x86_64.whl (12.8 MB)\n",
            "\u001b[2K     \u001b[90m━━━━━━━━━━━━━━━━━━━━━━━━━━━━━━━━━━━━━━━━\u001b[0m \u001b[32m12.8/12.8 MB\u001b[0m \u001b[31m73.7 MB/s\u001b[0m eta \u001b[36m0:00:00\u001b[0m\n",
            "\u001b[?25hCollecting qiskit-ibmq-provider==0.20.1\n",
            "  Downloading qiskit_ibmq_provider-0.20.1-py3-none-any.whl (241 kB)\n",
            "\u001b[2K     \u001b[90m━━━━━━━━━━━━━━━━━━━━━━━━━━━━━━━━━━━━━━\u001b[0m \u001b[32m241.3/241.3 KB\u001b[0m \u001b[31m23.4 MB/s\u001b[0m eta \u001b[36m0:00:00\u001b[0m\n",
            "\u001b[?25hRequirement already satisfied: scipy>=1.0 in /usr/local/lib/python3.8/dist-packages (from qiskit-aer==0.11.2->qiskit) (1.10.1)\n",
            "Requirement already satisfied: numpy>=1.16.3 in /usr/local/lib/python3.8/dist-packages (from qiskit-aer==0.11.2->qiskit) (1.22.4)\n",
            "Collecting requests-ntlm~=1.1.0\n",
            "  Downloading requests_ntlm-1.1.0-py2.py3-none-any.whl (5.7 kB)\n",
            "Collecting websockets~=10.0\n",
            "  Downloading websockets-10.4-cp38-cp38-manylinux_2_5_x86_64.manylinux1_x86_64.manylinux_2_17_x86_64.manylinux2014_x86_64.whl (106 kB)\n",
            "\u001b[2K     \u001b[90m━━━━━━━━━━━━━━━━━━━━━━━━━━━━━━━━━━━━━━\u001b[0m \u001b[32m107.0/107.0 KB\u001b[0m \u001b[31m11.0 MB/s\u001b[0m eta \u001b[36m0:00:00\u001b[0m\n",
            "\u001b[?25hCollecting websocket-client~=1.5.1\n",
            "  Downloading websocket_client-1.5.1-py3-none-any.whl (55 kB)\n",
            "\u001b[2K     \u001b[90m━━━━━━━━━━━━━━━━━━━━━━━━━━━━━━━━━━━━━━━━\u001b[0m \u001b[32m55.9/55.9 KB\u001b[0m \u001b[31m6.0 MB/s\u001b[0m eta \u001b[36m0:00:00\u001b[0m\n",
            "\u001b[?25hRequirement already satisfied: python-dateutil~=2.8.0 in /usr/local/lib/python3.8/dist-packages (from qiskit-ibmq-provider==0.20.1->qiskit) (2.8.2)\n",
            "Requirement already satisfied: urllib3~=1.26.0 in /usr/local/lib/python3.8/dist-packages (from qiskit-ibmq-provider==0.20.1->qiskit) (1.26.14)\n",
            "Collecting requests~=2.28.0\n",
            "  Downloading requests-2.28.2-py3-none-any.whl (62 kB)\n",
            "\u001b[2K     \u001b[90m━━━━━━━━━━━━━━━━━━━━━━━━━━━━━━━━━━━━━━━━\u001b[0m \u001b[32m62.8/62.8 KB\u001b[0m \u001b[31m6.9 MB/s\u001b[0m eta \u001b[36m0:00:00\u001b[0m\n",
            "\u001b[?25hCollecting rustworkx>=0.12.0\n",
            "  Downloading rustworkx-0.12.1-cp38-cp38-manylinux_2_17_x86_64.manylinux2014_x86_64.whl (1.9 MB)\n",
            "\u001b[2K     \u001b[90m━━━━━━━━━━━━━━━━━━━━━━━━━━━━━━━━━━━━━━━━\u001b[0m \u001b[32m1.9/1.9 MB\u001b[0m \u001b[31m58.3 MB/s\u001b[0m eta \u001b[36m0:00:00\u001b[0m\n",
            "\u001b[?25hCollecting stevedore>=3.0.0\n",
            "  Downloading stevedore-5.0.0-py3-none-any.whl (49 kB)\n",
            "\u001b[2K     \u001b[90m━━━━━━━━━━━━━━━━━━━━━━━━━━━━━━━━━━━━━━━━\u001b[0m \u001b[32m49.6/49.6 KB\u001b[0m \u001b[31m5.0 MB/s\u001b[0m eta \u001b[36m0:00:00\u001b[0m\n",
            "\u001b[?25hCollecting symengine>=0.9\n",
            "  Downloading symengine-0.9.2-cp38-cp38-manylinux2010_x86_64.whl (37.5 MB)\n",
            "\u001b[2K     \u001b[90m━━━━━━━━━━━━━━━━━━━━━━━━━━━━━━━━━━━━━━━━\u001b[0m \u001b[32m37.5/37.5 MB\u001b[0m \u001b[31m14.8 MB/s\u001b[0m eta \u001b[36m0:00:00\u001b[0m\n",
            "\u001b[?25hCollecting ply>=3.10\n",
            "  Downloading ply-3.11-py2.py3-none-any.whl (49 kB)\n",
            "\u001b[2K     \u001b[90m━━━━━━━━━━━━━━━━━━━━━━━━━━━━━━━━━━━━━━━━\u001b[0m \u001b[32m49.6/49.6 KB\u001b[0m \u001b[31m5.6 MB/s\u001b[0m eta \u001b[36m0:00:00\u001b[0m\n",
            "\u001b[?25hRequirement already satisfied: sympy>=1.3 in /usr/local/lib/python3.8/dist-packages (from qiskit-terra==0.23.2->qiskit) (1.7.1)\n",
            "Collecting dill>=0.3\n",
            "  Downloading dill-0.3.6-py3-none-any.whl (110 kB)\n",
            "\u001b[2K     \u001b[90m━━━━━━━━━━━━━━━━━━━━━━━━━━━━━━━━━━━━━━\u001b[0m \u001b[32m110.5/110.5 KB\u001b[0m \u001b[31m11.9 MB/s\u001b[0m eta \u001b[36m0:00:00\u001b[0m\n",
            "\u001b[?25hRequirement already satisfied: psutil>=5 in /usr/local/lib/python3.8/dist-packages (from qiskit-terra==0.23.2->qiskit) (5.4.8)\n",
            "Requirement already satisfied: six>=1.5 in /usr/local/lib/python3.8/dist-packages (from python-dateutil~=2.8.0->qiskit-ibmq-provider==0.20.1->qiskit) (1.15.0)\n",
            "Requirement already satisfied: certifi>=2017.4.17 in /usr/local/lib/python3.8/dist-packages (from requests~=2.28.0->qiskit-ibmq-provider==0.20.1->qiskit) (2022.12.7)\n",
            "Requirement already satisfied: charset-normalizer<4,>=2 in /usr/local/lib/python3.8/dist-packages (from requests~=2.28.0->qiskit-ibmq-provider==0.20.1->qiskit) (3.0.1)\n",
            "Requirement already satisfied: idna<4,>=2.5 in /usr/local/lib/python3.8/dist-packages (from requests~=2.28.0->qiskit-ibmq-provider==0.20.1->qiskit) (2.10)\n",
            "Collecting cryptography>=1.3\n",
            "  Downloading cryptography-39.0.2-cp36-abi3-manylinux_2_28_x86_64.whl (4.2 MB)\n",
            "\u001b[2K     \u001b[90m━━━━━━━━━━━━━━━━━━━━━━━━━━━━━━━━━━━━━━━━\u001b[0m \u001b[32m4.2/4.2 MB\u001b[0m \u001b[31m77.3 MB/s\u001b[0m eta \u001b[36m0:00:00\u001b[0m\n",
            "\u001b[?25hCollecting ntlm-auth>=1.0.2\n",
            "  Downloading ntlm_auth-1.5.0-py2.py3-none-any.whl (29 kB)\n",
            "Collecting pbr!=2.1.0,>=2.0.0\n",
            "  Downloading pbr-5.11.1-py2.py3-none-any.whl (112 kB)\n",
            "\u001b[2K     \u001b[90m━━━━━━━━━━━━━━━━━━━━━━━━━━━━━━━━━━━━━━\u001b[0m \u001b[32m112.7/112.7 KB\u001b[0m \u001b[31m13.7 MB/s\u001b[0m eta \u001b[36m0:00:00\u001b[0m\n",
            "\u001b[?25hRequirement already satisfied: mpmath>=0.19 in /usr/local/lib/python3.8/dist-packages (from sympy>=1.3->qiskit-terra==0.23.2->qiskit) (1.2.1)\n",
            "Requirement already satisfied: cffi>=1.12 in /usr/local/lib/python3.8/dist-packages (from cryptography>=1.3->requests-ntlm~=1.1.0->qiskit-ibmq-provider==0.20.1->qiskit) (1.15.1)\n",
            "Requirement already satisfied: pycparser in /usr/local/lib/python3.8/dist-packages (from cffi>=1.12->cryptography>=1.3->requests-ntlm~=1.1.0->qiskit-ibmq-provider==0.20.1->qiskit) (2.21)\n",
            "Building wheels for collected packages: qiskit\n",
            "  Building wheel for qiskit (setup.py) ... \u001b[?25l\u001b[?25hdone\n",
            "  Created wheel for qiskit: filename=qiskit-0.41.1-py3-none-any.whl size=12918 sha256=11b8d108d244af71d2df9fbd1be3482b065b65797b2e4a75446e3d10f60b3429\n",
            "  Stored in directory: /root/.cache/pip/wheels/03/93/d3/9c1ca2a27a41ea528d1cfd431bf5354745239d7a794d2070a6\n",
            "Successfully built qiskit\n",
            "Installing collected packages: ply, websockets, websocket-client, symengine, rustworkx, requests, pbr, ntlm-auth, dill, stevedore, cryptography, requests-ntlm, qiskit-terra, qiskit-ibmq-provider, qiskit-aer, qiskit\n",
            "  Attempting uninstall: requests\n",
            "    Found existing installation: requests 2.25.1\n",
            "    Uninstalling requests-2.25.1:\n",
            "      Successfully uninstalled requests-2.25.1\n",
            "Successfully installed cryptography-39.0.2 dill-0.3.6 ntlm-auth-1.5.0 pbr-5.11.1 ply-3.11 qiskit-0.41.1 qiskit-aer-0.11.2 qiskit-ibmq-provider-0.20.1 qiskit-terra-0.23.2 requests-2.28.2 requests-ntlm-1.1.0 rustworkx-0.12.1 stevedore-5.0.0 symengine-0.9.2 websocket-client-1.5.1 websockets-10.4\n"
          ]
        }
      ]
    },
    {
      "cell_type": "code",
      "source": [
        "import qiskit as q\n",
        "import numpy as np\n",
        "import random\n"
      ],
      "metadata": {
        "id": "x1WRVSgjLr6e"
      },
      "execution_count": 2,
      "outputs": []
    },
    {
      "cell_type": "markdown",
      "source": [
        "Below is the definition of a function that generates a random quantum circuit. The function receives the number of qubits, the maximum depth of the circuit, and a list of the allowed quantum gates."
      ],
      "metadata": {
        "id": "kmxaaBwjwIfz"
      }
    },
    {
      "cell_type": "code",
      "source": [
        "def random_circuit (num_qubits, depth, basis_gates):\n",
        "    \n",
        "    circuit = q.QuantumCircuit(num_qubits)\n",
        "    \n",
        "    DEPTH = 0\n",
        "    \n",
        "    while(DEPTH < depth):\n",
        "        \n",
        "        try :\n",
        "            \n",
        "            gate_choice = np.random.choice(basis_gates)\n",
        "            \n",
        "            if num_qubits > 0 :\n",
        "                \n",
        "            \n",
        "                if gate_choice == 'H' :\n",
        "\n",
        "                    random_qbit = np.random.randint(num_qubits)\n",
        "                    circuit.h(random_qbit)\n",
        "\n",
        "\n",
        "\n",
        "                if gate_choice == 'X' :\n",
        "\n",
        "                    random_qbit = np.random.randint(num_qubits)\n",
        "                    circuit.x(random_qbit)\n",
        "\n",
        "\n",
        "\n",
        "                elif gate_choice == 'Y' :\n",
        "\n",
        "                    random_qbit = np.random.randint(num_qubits)\n",
        "                    circuit.y(random_qbit)\n",
        "\n",
        "\n",
        "\n",
        "                elif gate_choice == 'Z' :\n",
        "\n",
        "                    random_qbit = np.random.randint(num_qubits)\n",
        "                    circuit.z(random_qbit)\n",
        "\n",
        "\n",
        "                elif gate_choice == 'S' :\n",
        "\n",
        "                    random_qbit = np.random.randint(num_qubits)\n",
        "                    circuit.s(random_qbit)\n",
        "\n",
        "\n",
        "                elif gate_choice == 'T' :\n",
        "\n",
        "                    random_qbit = np.random.randint(num_qubits)\n",
        "                    circuit.t(random_qbit)\n",
        "\n",
        "\n",
        "   \n",
        "            if num_qubits > 1 :\n",
        "                \n",
        "                if gate_choice == 'CX' :\n",
        "                    \n",
        "                    \n",
        "                    random_qbits = random.sample(range(0,num_qubits),2)\n",
        "                    circuit.cx(random_qbits[0],random_qbits[1])\n",
        "\n",
        "                    \n",
        "                elif gate_choice == 'CZ' :\n",
        "                    \n",
        "                    random_qbits = random.sample(range(0,num_qubits),2)\n",
        "                    circuit.zx(random_qbits[0],random_qbits[1])\n",
        "\n",
        "                    \n",
        "                elif gate_choice == 'swap' :\n",
        "                    \n",
        "                    random_qbits = random.sample(range(0,num_qubits),2)\n",
        "                    circuit.swap(random_qbits[0],random_qbits[1])\n",
        "\n",
        "      \n",
        "            \n",
        "        except Exception as e:\n",
        "            \n",
        "            print(e)\n",
        "            break\n",
        "            \n",
        "        DEPTH = circuit.depth()\n",
        "    return circuit\n",
        "    "
      ],
      "metadata": {
        "id": "5K9Du_27NfM2"
      },
      "execution_count": 3,
      "outputs": []
    },
    {
      "cell_type": "markdown",
      "source": [
        "Generating a random circuit with 6 qubits and depth of 10. in this case, the allowed gates are: Hadamard gate, Pauli-X gate, Pi/8, Controlled Not gate, Swap gate, Phase gate."
      ],
      "metadata": {
        "id": "YZMK26qmwWHB"
      }
    },
    {
      "cell_type": "code",
      "source": [
        "circuit = random_circuit(6,10,['H','X','T','CX','swap','S'])\n",
        "circuit.draw()"
      ],
      "metadata": {
        "colab": {
          "base_uri": "https://localhost:8080/",
          "height": 217
        },
        "id": "7i8qZtSlNgY3",
        "outputId": "99ca53cc-9aa5-43fd-88bd-f2f7170bfe35"
      },
      "execution_count": 4,
      "outputs": [
        {
          "output_type": "execute_result",
          "data": {
            "text/plain": [
              "     ┌───┐     ┌───┐        ┌───┐┌───┐                     \n",
              "q_0: ┤ H ├──X──┤ T ├─────■──┤ H ├┤ S ├─────────────────────\n",
              "     ├───┤  │  └───┘     │  ├───┤└───┘                     \n",
              "q_1: ┤ H ├──┼────────X───┼──┤ X ├──────────────────────────\n",
              "     ├───┤  │        │   │  └───┘        ┌───┐┌───┐   ┌───┐\n",
              "q_2: ┤ S ├──┼────────┼───┼─────────────X─┤ T ├┤ S ├─X─┤ S ├\n",
              "     └───┘  │  ┌───┐ │   │  ┌───┐      │ └───┘└───┘ │ └───┘\n",
              "q_3: ───────X──┤ T ├─┼───┼──┤ H ├──X───┼────────────┼──────\n",
              "     ┌───┐┌───┐└───┘ │   │  └───┘  │   │            │      \n",
              "q_4: ┤ T ├┤ X ├──────┼───┼─────────X───┼────────────X──────\n",
              "     ├───┤└─┬─┘      │ ┌─┴─┐┌───┐      │ ┌───┐             \n",
              "q_5: ┤ T ├──■────────X─┤ X ├┤ H ├──────X─┤ X ├─────────────\n",
              "     └───┘             └───┘└───┘        └───┘             "
            ],
            "text/html": [
              "<pre style=\"word-wrap: normal;white-space: pre;background: #fff0;line-height: 1.1;font-family: &quot;Courier New&quot;,Courier,monospace\">     ┌───┐     ┌───┐        ┌───┐┌───┐                     \n",
              "q_0: ┤ H ├──X──┤ T ├─────■──┤ H ├┤ S ├─────────────────────\n",
              "     ├───┤  │  └───┘     │  ├───┤└───┘                     \n",
              "q_1: ┤ H ├──┼────────X───┼──┤ X ├──────────────────────────\n",
              "     ├───┤  │        │   │  └───┘        ┌───┐┌───┐   ┌───┐\n",
              "q_2: ┤ S ├──┼────────┼───┼─────────────X─┤ T ├┤ S ├─X─┤ S ├\n",
              "     └───┘  │  ┌───┐ │   │  ┌───┐      │ └───┘└───┘ │ └───┘\n",
              "q_3: ───────X──┤ T ├─┼───┼──┤ H ├──X───┼────────────┼──────\n",
              "     ┌───┐┌───┐└───┘ │   │  └───┘  │   │            │      \n",
              "q_4: ┤ T ├┤ X ├──────┼───┼─────────X───┼────────────X──────\n",
              "     ├───┤└─┬─┘      │ ┌─┴─┐┌───┐      │ ┌───┐             \n",
              "q_5: ┤ T ├──■────────X─┤ X ├┤ H ├──────X─┤ X ├─────────────\n",
              "     └───┘             └───┘└───┘        └───┘             </pre>"
            ]
          },
          "metadata": {},
          "execution_count": 4
        }
      ]
    }
  ]
}